{
 "cells": [
  {
   "cell_type": "code",
   "execution_count": 118,
   "metadata": {},
   "outputs": [],
   "source": [
    "# Dependencies\n",
    "from bs4 import BeautifulSoup\n",
    "from splinter import Browser\n",
    "import requests\n",
    "import pandas as pd\n",
    "import numpy as np"
   ]
  },
  {
   "cell_type": "code",
   "execution_count": 86,
   "metadata": {},
   "outputs": [],
   "source": [
    "#!which chromedriver"
   ]
  },
  {
   "cell_type": "code",
   "execution_count": 87,
   "metadata": {},
   "outputs": [],
   "source": [
    "# Set the executable path and initialize the chrome browser in splinter\n",
    "# executable_path = {'executable_path': '/usr/local/bin/chromedriver'}\n",
    "# browser = Browser('chrome', **executable_path)\n",
    "\n",
    "executable_path = {'executable_path': 'chromedriver.exe'}\n",
    "browser = Browser('chrome', **executable_path, headless=False)"
   ]
  },
  {
   "cell_type": "code",
   "execution_count": null,
   "metadata": {},
   "outputs": [],
   "source": [
    "### NASA Mars News"
   ]
  },
  {
   "cell_type": "code",
   "execution_count": 88,
   "metadata": {},
   "outputs": [],
   "source": [
    "url = 'https://mars.nasa.gov/news/'\n",
    "browser.visit(url)\n",
    "\n",
    "html = browser.html\n",
    "news_soup = BeautifulSoup(html, \"html.parser\")\n",
    "\n",
    "#try: \n",
    "slide_elem = news_soup.select_one(\"ul.item_list li.slide\")\n",
    "news_title = slide_elem.find('div',class_=\"content_title\").text.strip()\n",
    "news_p = slide_elem.find('div',class_=\"article_teaser_body\").text.strip()\n",
    "\n",
    "# except AttributeError:\n",
    "#     return None, None\n",
    "# return news_title, news_p\n",
    "print(news_title)\n",
    "print(\"--------\")\n",
    "print(news_p)"
   ]
  },
  {
   "cell_type": "code",
   "execution_count": 91,
   "metadata": {},
   "outputs": [],
   "source": [
    "### JPL Mars Space Images - Featured Image"
   ]
  },
  {
   "cell_type": "code",
   "execution_count": 92,
   "metadata": {},
   "outputs": [],
   "source": [
    "#with Browser() as browser:\n",
    "    # Visit URL\n",
    "url2 = \"https://www.jpl.nasa.gov/spaceimages/?search=&category=Mars\"\n",
    "browser.visit(url2)\n",
    "# browser.fill('q', 'splinter - python acceptance testing for web applications')\n",
    "# # Find and click the 'search' button\n",
    "# browser.check(\"full image\")\n",
    "\n",
    "#button = browser.find_by_name('full_image')\n",
    "\n",
    "\n",
    "full_image_elem = browser.click_link_by_id('full_image')\n",
    "\n",
    "moreinfo = browser.click_link_by_partial_text(\"more info\", wait_time=1)\n",
    "\n",
    "html = browser.html\n",
    "img_soup = BeautifulSoup(html, 'html.parser')\n",
    "\n",
    "img_link = img_soup.select_one('figure.lede a img').get(\"src\")\n",
    "img_link\n",
    "\n",
    "img_url = f'https://www.jpl.nasa.gov{img_link}'\n",
    "img_url"
   ]
  },
  {
   "cell_type": "code",
   "execution_count": 98,
   "metadata": {},
   "outputs": [],
   "source": [
    "## TWITTER"
   ]
  },
  {
   "cell_type": "code",
   "execution_count": 99,
   "metadata": {},
   "outputs": [],
   "source": [
    "url3 = 'https://twitter.com/marswxreport?lang=en'\n",
    "browser.visit(url3)\n",
    "\n",
    "html = browser.html\n",
    "twitter_soup = BeautifulSoup(html, 'html.parser')\n",
    "\n",
    "tweet = twitter_soup.find('div', attrs={\"class\": \"tweet\", \"data-name\": \"Mars Weather\"})\n",
    "tweet\n",
    "\n",
    "mars_weather = tweet.find('p', 'tweet-text').get_text()\n",
    "mars_weather"
   ]
  },
  {
   "cell_type": "code",
   "execution_count": null,
   "metadata": {},
   "outputs": [],
   "source": [
    "### Mars Facts"
   ]
  },
  {
   "cell_type": "code",
   "execution_count": 109,
   "metadata": {},
   "outputs": [],
   "source": [
    "url4 = 'https://space-facts.com/mars/'\n",
    "browser.visit(url4)\n",
    "\n",
    "html = browser.html\n",
    "facts_soup = BeautifulSoup(html, 'html.parser')\n",
    "\n",
    "facts_table= pd.read_html(html, attrs = {'id': 'tablepress-p-mars'}, match='.+', flavor=None, header=None, index_col=None, skiprows=None, parse_dates=False, tupleize_cols=None, thousands=', ', encoding=None, decimal='.', converters=None, na_values=None, keep_default_na=True, displayed_only=True)\n",
    "facts_table\n",
    "\n",
    "df = facts_table[0]\n",
    "\n",
    "#df = pd.DataFrame(data = facts_table[0], index=None, columns=[\"Parameter\",\"Value\"])\n",
    "df = df.rename(columns={0:\"Parameter\", 1:\"Value\"})\n",
    "df = df.set_index(\"Parameter\")\n",
    "df\n",
    "\n",
    "df.to_html()"
   ]
  },
  {
   "cell_type": "code",
   "execution_count": null,
   "metadata": {},
   "outputs": [],
   "source": [
    "### Hemispheres"
   ]
  },
  {
   "cell_type": "code",
   "execution_count": 138,
   "metadata": {},
   "outputs": [],
   "source": [
    "url5 = 'https://astrogeology.usgs.gov/search/results?q=hemisphere+enhanced&k1=target&v1=Mars'\n",
    "browser.visit(url5)\n",
    "\n",
    "html = browser.html\n",
    "USGS_soup = BeautifulSoup(html, 'html.parser')\n",
    "\n",
    "image_urls = []\n",
    "\n",
    "\n",
    "links = browser.find_by_css(\"a.product-item h3\")\n",
    "\n",
    "for i in range(len(links)):\n",
    "    hemisphere = {}\n",
    "    \n",
    "    browser.find_by_css(\"a.product-item h3\")[i].click()\n",
    "    \n",
    "    sample_elem = browser.find_link_by_text('Sample').first\n",
    "    hemisphere['img_url'] = sample_elem['href']\n",
    "    \n",
    "    hemisphere['title'] = browser.find_by_css(\"h2.title\").text\n",
    "    \n",
    "    image_urls.append(hemisphere)\n",
    "    \n",
    "    browser.back()\n",
    "    \n",
    "\n",
    "image_urls"
   ]
  },
  {
   "cell_type": "code",
   "execution_count": null,
   "metadata": {},
   "outputs": [],
   "source": []
  },
  {
   "cell_type": "code",
   "execution_count": null,
   "metadata": {},
   "outputs": [],
   "source": []
  }
 ],
 "metadata": {
  "kernelspec": {
   "display_name": "Python 3",
   "language": "python",
   "name": "python3"
  },
  "language_info": {
   "codemirror_mode": {
    "name": "ipython",
    "version": 3
   },
   "file_extension": ".py",
   "mimetype": "text/x-python",
   "name": "python",
   "nbconvert_exporter": "python",
   "pygments_lexer": "ipython3",
   "version": "3.7.3"
  }
 },
 "nbformat": 4,
 "nbformat_minor": 2
}
